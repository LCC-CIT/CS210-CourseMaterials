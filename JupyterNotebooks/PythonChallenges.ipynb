{
 "cells": [
  {
   "cell_type": "markdown",
   "metadata": {},
   "source": [
    "# Python Programming Challenges\n",
    "\n",
    "A set of 12 very simple exercises designed for students who know programming fundamentals but are new to Python."
   ],
   "id": "4013142710960988"
  },
  {
   "cell_type": "markdown",
   "metadata": {},
   "source": [
    "---"
   ],
   "id": "e7dad627d2a57585"
  },
  {
   "cell_type": "markdown",
   "metadata": {},
   "source": [
    "## Control Structures (Challenges 1–3)"
   ],
   "id": "6f0e1b100c974a8f"
  },
  {
   "cell_type": "markdown",
   "metadata": {},
   "source": [
    "### Challenge 1: Even or Odd\n",
    "Use an `if` statement to check whether an integer is even or odd.\n",
    "Example\n",
    "```python\n",
    "x = 10\n",
    "y = 8 % 3  # y is the remainder of 8 / 3\n",
    "if y == 2:\n",
    "   print(\"Math still works\")\n",
    "```\n"
   ],
   "id": "142d20f93c106e59"
  },
  {
   "cell_type": "code",
   "metadata": {
    "jupyter": {
     "is_executing": true
    }
   },
   "source": [
    "# Challenge 1\n",
    "num = int(input(\"Enter an integer: \"))\n",
    "x = 10\n",
    "y = 8 % 3  # y is the remainder of 8 / 3\n",
    "if y == 2:\n",
    "   print(\"Math still works\")"
   ],
   "id": "8395dfde837fd20d",
   "outputs": [],
   "execution_count": null
  },
  {
   "cell_type": "markdown",
   "metadata": {},
   "source": [
    "### Challenge 2: Print a Range\n",
    "Use a `for` loop to print numbers from 1 to 5."
   ],
   "id": "b378994b4c895104"
  },
  {
   "cell_type": "code",
   "execution_count": null,
   "metadata": {},
   "outputs": [],
   "source": [
    "# Challenge 2\n",
    "# Your code here"
   ],
   "id": "24fd49bbde1e89d4"
  },
  {
   "cell_type": "markdown",
   "metadata": {},
   "source": [
    "### Challenge 3: Vowel Checker\n",
    "Ask the user for a single letter and check if it’s a vowel (`a`, `e`, `i`, `o`, `u`) or not."
   ],
   "id": "ecd7c992645a01a9"
  },
  {
   "cell_type": "code",
   "execution_count": null,
   "metadata": {},
   "outputs": [],
   "source": [
    "# Challenge 3\n",
    "letter = input(\"Enter a single letter: \").lower()\n",
    "# Your code here"
   ],
   "id": "95f542143b7fc0e8"
  },
  {
   "cell_type": "markdown",
   "metadata": {},
   "source": [
    "---"
   ],
   "id": "7020e420b21e40a0"
  },
  {
   "cell_type": "markdown",
   "metadata": {},
   "source": [
    "## Lists and Dictionaries (Challenges 4–6)"
   ],
   "id": "87913de56a182140"
  },
  {
   "cell_type": "markdown",
   "metadata": {},
   "source": [
    "### Challenge 4: List Length\n",
    "Create a list of five items and print its length using `len()`."
   ],
   "id": "ed5e23421be688a4"
  },
  {
   "cell_type": "code",
   "execution_count": null,
   "metadata": {},
   "outputs": [],
   "source": [
    "# Challenge 4\n",
    "items = [\"apple\", \"banana\", \"cherry\", \"date\", \"elderberry\"]\n",
    "# Your code here"
   ],
   "id": "fc1e345bb8f4e248"
  },
  {
   "cell_type": "markdown",
   "metadata": {},
   "source": [
    "### Challenge 5: Sum of List\n",
    "Given a list of numbers, calculate and print their sum using a loop."
   ],
   "id": "22ee179565e24c8d"
  },
  {
   "cell_type": "code",
   "execution_count": null,
   "metadata": {},
   "outputs": [],
   "source": [
    "# Challenge 5\n",
    "numbers = [1, 2, 3, 4, 5]\n",
    "# Your code here"
   ],
   "id": "7c34df3913de0dfd"
  },
  {
   "cell_type": "markdown",
   "metadata": {},
   "source": [
    "### Challenge 6: Character Count\n",
    "Given a short string, build a dictionary that maps each character to how many times it appears."
   ],
   "id": "e3e44b6ce31322cb"
  },
  {
   "cell_type": "code",
   "execution_count": null,
   "metadata": {},
   "outputs": [],
   "source": [
    "# Challenge 6\n",
    "text = \"hello\"\n",
    "# Your code here"
   ],
   "id": "91e92c0604f262a0"
  },
  {
   "cell_type": "markdown",
   "metadata": {},
   "source": [
    "---"
   ],
   "id": "c83d8d322ced3b72"
  },
  {
   "cell_type": "markdown",
   "metadata": {},
   "source": [
    "## Functions (Challenges 7–9)"
   ],
   "id": "541c37132e11c68f"
  },
  {
   "cell_type": "markdown",
   "metadata": {},
   "source": [
    "### Challenge 7: Add Two Numbers\n",
    "Write a function `add(a, b)` that returns the sum of two numbers."
   ],
   "id": "98ae204c1a3d2b64"
  },
  {
   "cell_type": "code",
   "execution_count": null,
   "metadata": {},
   "outputs": [],
   "source": [
    "# Challenge 7\n",
    "def add(a, b):\n",
    "    # Your code here\n",
    "\n",
    "print(add(2, 3))  # Expected: 5"
   ],
   "id": "7d5e230d71d14c19"
  },
  {
   "cell_type": "markdown",
   "metadata": {},
   "source": [
    "### Challenge 8: Greet Function\n",
    "Define a function `greet(name)` that prints `Hello, {name}!`."
   ],
   "id": "6ccff9da2b1ee2f4"
  },
  {
   "cell_type": "code",
   "execution_count": null,
   "metadata": {},
   "outputs": [],
   "source": [
    "# Challenge 8\n",
    "def greet(name):\n",
    "    # Your code here\n",
    "\n",
    "greet(\"Alice\")"
   ],
   "id": "e47beb9c39799d3f"
  },
  {
   "cell_type": "markdown",
   "metadata": {},
   "source": [
    "### Challenge 9: Is Positive\n",
    "Create a function `is_positive(n)` that returns `True` if `n` is greater than 0, otherwise `False`."
   ],
   "id": "c682b854376ec059"
  },
  {
   "cell_type": "code",
   "execution_count": null,
   "metadata": {},
   "outputs": [],
   "source": [
    "# Challenge 9\n",
    "def is_positive(n):\n",
    "    # Your code here\n",
    "\n",
    "print(is_positive(-1))  # Expected: False"
   ],
   "id": "bb4138e17f43d722"
  },
  {
   "cell_type": "markdown",
   "metadata": {},
   "source": [
    "---"
   ],
   "id": "ecdd480597c76966"
  },
  {
   "cell_type": "markdown",
   "metadata": {},
   "source": [
    "## Classes and Objects (Challenges 10–12)"
   ],
   "id": "8ce323bac14c5fe4"
  },
  {
   "cell_type": "markdown",
   "metadata": {},
   "source": [
    "### Challenge 10: Simple Class\n",
    "Define a class `Animal` with an attribute `name`. Instantiate it and print the name."
   ],
   "id": "d9e42c7ad3a04321"
  },
  {
   "cell_type": "code",
   "execution_count": null,
   "metadata": {},
   "outputs": [],
   "source": [
    "# Challenge 10\n",
    "class Animal:\n",
    "    def __init__(self, name):\n",
    "        # Your code here\n",
    "\n",
    "# Example\n",
    "dog = Animal(\"Dog\")\n",
    "print(dog.name)  # Expected: Dog"
   ],
   "id": "fa4e0e2e039acf0d"
  },
  {
   "cell_type": "markdown",
   "metadata": {},
   "source": [
    "### Challenge 11: Method in Class\n",
    "Add a method `say_name()` to `Animal` that prints its `name` attribute."
   ],
   "id": "eaa06a42559ce653"
  },
  {
   "cell_type": "code",
   "execution_count": null,
   "metadata": {},
   "outputs": [],
   "source": [
    "# Challenge 11\n",
    "class Animal:\n",
    "    def __init__(self, name):\n",
    "        self.name = name\n",
    "\n",
    "    def say_name(self):\n",
    "        # Your code here\n",
    "\n",
    "cat = Animal(\"Cat\")\n",
    "cat.say_name()  # Expected: Cat"
   ],
   "id": "38ff217e3d6b5ab7"
  },
  {
   "cell_type": "markdown",
   "metadata": {},
   "source": [
    "### Challenge 12: Counter Class\n",
    "Create a class `Counter` with methods `increment()` and `value()`. Calling `increment()` increases an internal count by 1; `value()` returns it."
   ],
   "id": "6316ffd80b11b50a"
  },
  {
   "cell_type": "code",
   "execution_count": null,
   "metadata": {},
   "outputs": [],
   "source": [
    "# Challenge 12\n",
    "class Counter:\n",
    "    def __init__(self):\n",
    "        # Your code here\n",
    "\n",
    "    def increment(self):\n",
    "        # Your code here\n",
    "\n",
    "    def value(self):\n",
    "        # Your code here\n",
    "\n",
    "# Demo\n",
    "c = Counter()\n",
    "c.increment()\n",
    "print(c.value())  # Expected: 1"
   ],
   "id": "41997a02a62e6f31"
  }
 ],
 "metadata": {
  "kernelspec": {
   "display_name": "Python 3",
   "language": "python",
   "name": "python3"
  },
  "language_info": {
   "name": "python",
   "version": ""
  }
 },
 "nbformat": 4,
 "nbformat_minor": 5
}
