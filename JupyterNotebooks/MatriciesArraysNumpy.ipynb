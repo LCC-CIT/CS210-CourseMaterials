{
 "cells": [
  {
   "cell_type": "markdown",
   "id": "8000caf3-3091-4f60-a92e-f104ca0edf05",
   "metadata": {},
   "source": [
    "# Introduction to Mathematical Matrices\n",
    "\n",
    "A **matrix** is a rectangular array of numbers arranged in rows and columns.\n",
    "It’s a foundational concept in linear algebra, used in everything from solving systems of equations to powering machine learning models."
   ]
  },
  {
   "cell_type": "markdown",
   "id": "e26bd548-ac03-4167-9626-2712a17498e4",
   "metadata": {},
   "source": [
    "## What is a Matrix?\n",
    "\n",
    "Example of a 2×3 matrix:\n",
    "\n",
    "\\begin{bmatrix}\n",
    "1 & 2 & 3 \\\\\n",
    "4 & 5 & 6\n",
    "\\end{bmatrix}"
   ]
  },
  {
   "cell_type": "code",
   "execution_count": 1,
   "id": "a36bd523-dabd-4d0c-8d68-3f474240412e",
   "metadata": {},
   "outputs": [
    {
     "data": {
      "text/plain": [
       "([[1, 2, 3], [4, 5, 6]],\n",
       " array([[1, 2, 3],\n",
       "        [4, 5, 6]]))"
      ]
     },
     "execution_count": 1,
     "metadata": {},
     "output_type": "execute_result"
    }
   ],
   "source": [
    "# Python list of lists\n",
    "matrix_py = [[1, 2, 3],\n",
    "             [4, 5, 6]]\n",
    "\n",
    "# NumPy array\n",
    "import numpy as np\n",
    "matrix_np = np.array([[1, 2, 3],\n",
    "                      [4, 5, 6]])\n",
    "\n",
    "matrix_py, matrix_np"
   ]
  },
  {
   "cell_type": "markdown",
   "id": "e1782cca-8377-4f2e-9926-10378aa0eb56",
   "metadata": {},
   "source": [
    "## Matrix Dimensions (Shape)"
   ]
  },
  {
   "cell_type": "code",
   "execution_count": 2,
   "id": "cc8ab33a-154b-45f1-848c-972832a08167",
   "metadata": {},
   "outputs": [
    {
     "data": {
      "text/plain": [
       "((2, 3), (2, 3))"
      ]
     },
     "execution_count": 2,
     "metadata": {},
     "output_type": "execute_result"
    }
   ],
   "source": [
    "# Python\n",
    "rows_py = len(matrix_py)\n",
    "cols_py = len(matrix_py[0])\n",
    "\n",
    "# NumPy\n",
    "shape_np = matrix_np.shape\n",
    "\n",
    "(rows_py, cols_py), shape_np"
   ]
  },
  {
   "cell_type": "markdown",
   "id": "c56e76f1-d4cf-4a72-a98a-ff2c127be479",
   "metadata": {},
   "source": [
    "## Transpose of a Matrix\n",
    "\n",
    "Flips rows into columns and columns into rows."
   ]
  },
  {
   "cell_type": "code",
   "execution_count": 3,
   "id": "a5cb6b6b-90fb-409f-9c3a-bfef6a2e9b53",
   "metadata": {},
   "outputs": [
    {
     "data": {
      "text/plain": [
       "([(1, 4), (2, 5), (3, 6)],\n",
       " array([[1, 4],\n",
       "        [2, 5],\n",
       "        [3, 6]]))"
      ]
     },
     "execution_count": 3,
     "metadata": {},
     "output_type": "execute_result"
    }
   ],
   "source": [
    "# Python\n",
    "transpose_py = list(zip(*matrix_py))\n",
    "\n",
    "# NumPy\n",
    "transpose_np = matrix_np.T\n",
    "\n",
    "transpose_py, transpose_np"
   ]
  },
  {
   "cell_type": "markdown",
   "id": "6baf1091-6cce-4075-b35e-53aeaca46663",
   "metadata": {},
   "source": [
    "## Matrix Addition\n",
    "\n",
    "Two matrices of the same shape can be added element-wise."
   ]
  },
  {
   "cell_type": "code",
   "execution_count": 4,
   "id": "ecfb8f13-d920-4e8b-99cc-b3835c72010c",
   "metadata": {},
   "outputs": [
    {
     "data": {
      "text/plain": [
       "([[6, 8], [10, 12]],\n",
       " array([[ 6,  8],\n",
       "        [10, 12]]))"
      ]
     },
     "execution_count": 4,
     "metadata": {},
     "output_type": "execute_result"
    }
   ],
   "source": [
    "A = [[1, 2], [3, 4]]\n",
    "B = [[5, 6], [7, 8]]\n",
    "\n",
    "# Python\n",
    "add_py = [[A[i][j] + B[i][j] for j in range(len(A[0]))] for i in range(len(A))]\n",
    "\n",
    "# NumPy\n",
    "A_np = np.array(A)\n",
    "B_np = np.array(B)\n",
    "add_np = A_np + B_np\n",
    "\n",
    "add_py, add_np"
   ]
  },
  {
   "cell_type": "markdown",
   "id": "f13ea75a-d41d-4417-9215-6b900baa2660",
   "metadata": {},
   "source": [
    "## Matrix Multiplication\n",
    "\n",
    "Matrix multiplication is **not** element-wise — it involves dot products of rows and columns."
   ]
  },
  {
   "cell_type": "code",
   "execution_count": 5,
   "id": "280f71a2-cfbf-4c22-af13-7c12a18bdf36",
   "metadata": {},
   "outputs": [
    {
     "data": {
      "text/plain": [
       "([[19, 22], [43, 50]],\n",
       " array([[19, 22],\n",
       "        [43, 50]]))"
      ]
     },
     "execution_count": 5,
     "metadata": {},
     "output_type": "execute_result"
    }
   ],
   "source": [
    "# Python (manual dot product)\n",
    "result_py = [[sum(a*b for a, b in zip(A_row, B_col)) \n",
    "              for B_col in zip(*B)] for A_row in A]\n",
    "\n",
    "# NumPy\n",
    "result_np = A_np @ B_np  # or np.dot(A_np, B_np)\n",
    "\n",
    "result_py, result_np"
   ]
  },
  {
   "cell_type": "markdown",
   "id": "66e9736c-4298-41e9-a234-80c304014401",
   "metadata": {},
   "source": [
    "## Identity Matrix\n",
    "\n",
    "An identity matrix has 1s on the diagonal and 0s elsewhere."
   ]
  },
  {
   "cell_type": "code",
   "execution_count": 6,
   "id": "47215a34-43b9-47a9-80d3-6859c4e57936",
   "metadata": {},
   "outputs": [
    {
     "data": {
      "text/plain": [
       "([[1, 0, 0], [0, 1, 0], [0, 0, 1]],\n",
       " array([[1., 0., 0.],\n",
       "        [0., 1., 0.],\n",
       "        [0., 0., 1.]]))"
      ]
     },
     "execution_count": 6,
     "metadata": {},
     "output_type": "execute_result"
    }
   ],
   "source": [
    "# Python\n",
    "identity_py = [[1 if i == j else 0 for j in range(3)] for i in range(3)]\n",
    "\n",
    "# NumPy\n",
    "identity_np = np.eye(3)\n",
    "\n",
    "identity_py, identity_np"
   ]
  },
  {
   "cell_type": "markdown",
   "id": "5a96c24b-9827-4d8e-803b-0efbadcee876",
   "metadata": {},
   "source": [
    "## Comparison of List of Lists vs. NumPy 2D Array"
   ]
  },
  {
   "cell_type": "markdown",
   "id": "5ad78b31-21a7-4bb8-aa53-1758dae8a35d",
   "metadata": {},
   "source": [
    "### Matrix Operations\n",
    "\n",
    "| Concept            | Python (List of Lists)              | NumPy Array                      |\n",
    "|--------------------|-------------------------------------|----------------------------------|\n",
    "| Create Matrix      | `[[1,2],[3,4]]`                     | `np.array([[1,2],[3,4]])`        |\n",
    "| Shape              | `len(mat), len(mat[0])`             | `mat.shape`                      |\n",
    "| Transpose          | `list(zip(*mat))`                   | `mat.T`                          |\n",
    "| Addition           | Nested loops                        | `A + B`                          |\n",
    "| Multiplication     | Manual dot product                  | `A @ B` or `np.dot(A, B)`        |\n",
    "| Identity Matrix    | List comprehension                  | `np.eye(n)`                      |"
   ]
  },
  {
   "cell_type": "markdown",
   "id": "9c81ae6b-c666-4f16-a06e-24447220d35c",
   "metadata": {},
   "source": [
    "###  Characteristics\n",
    "\n",
    "| Feature               | List of Lists                                           | NumPy `ndarray`                                 |\n",
    "| --------------------- | ------------------------------------------------------- | ----------------------------------------------- |\n",
    "| **Shape enforcement** | None — inner lists can be different lengths             | Fixed rectangular shape                         |\n",
    "| **Data types**        | Can mix types freely                                    | All elements share the same dtype               |\n",
    "| **Memory layout**     | Pointers to separate list objects (scattered in memory) | Contiguous block of memory (fast for math)      |\n",
    "| **Performance**       | Slower for large numeric ops (Python loops)             | Vectorized C‑level operations, much faster      |\n",
    "| **Flexibility**       | Can be jagged, hold any objects                         | Must be rectangular and typed                   |\n",
    "| **Built‑in math**     | None — you write loops manually                         | Rich API: broadcasting, slicing, linear algebra |"
   ]
  },
  {
   "cell_type": "code",
   "execution_count": null,
   "id": "e460429e-4c52-40eb-ad3d-0588f17ba0d4",
   "metadata": {},
   "outputs": [],
   "source": []
  }
 ],
 "metadata": {
  "kernelspec": {
   "display_name": "Python 3 (ipykernel)",
   "language": "python",
   "name": "python3"
  },
  "language_info": {
   "codemirror_mode": {
    "name": "ipython",
    "version": 3
   },
   "file_extension": ".py",
   "mimetype": "text/x-python",
   "name": "python",
   "nbconvert_exporter": "python",
   "pygments_lexer": "ipython3",
   "version": "3.13.7"
  }
 },
 "nbformat": 4,
 "nbformat_minor": 5
}
