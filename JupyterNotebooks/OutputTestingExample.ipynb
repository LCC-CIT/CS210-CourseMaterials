{
 "cells": [
  {
   "cell_type": "code",
   "execution_count": null,
   "metadata": {},
   "outputs": [],
   "source": [
    "import ipywidgets as widgets\n",
    "from IPython.display import display\n",
    "\n",
    "out = widgets.Output()\n",
    "\n",
    "with out:\n",
    "    print(\"Hello world\")\n",
    "    print(\"The result is:\", 42)\n",
    "\n",
    "display(out)\n",
    "\n",
    "# Inspect the output contents\n",
    "for entry in out.outputs:\n",
    "    if entry['output_type'] == 'stream':\n",
    "        assert \"Hello world\" in entry['text']\n",
    "        assert \"42\" in entry['text']\n",
    "print(\"✅ Live output contains expected text\")"
   ]
  },
  {
   "cell_type": "code",
   "execution_count": null,
   "metadata": {},
   "outputs": [],
   "source": [
    "import nbformat\n",
    "\n",
    "# Load the current notebook (assumes it's saved as 'output_testing_demo.ipynb')\n",
    "nb = nbformat.read(open(\"output_testing_demo.ipynb\"), as_version=4)\n",
    "\n",
    "# Inspect outputs from all code cells\n",
    "for i, cell in enumerate(nb.cells):\n",
    "    if cell.cell_type == \"code\":\n",
    "        for output in cell.get(\"outputs\", []):\n",
    "            if output.output_type == \"stream\":\n",
    "                print(f\"Cell {i} stream output:\", output.text.strip())\n",
    "            elif output.output_type == \"execute_result\":\n",
    "                print(f\"Cell {i} result:\", output.data)\n",
    "            elif output.output_type == \"error\":\n",
    "                print(f\"Cell {i} error:\", output.evalue)"
   ]
  },
  {
   "cell_type": "code",
   "execution_count": null,
   "metadata": {},
   "outputs": [],
   "source": [
    "from nbconvert.preprocessors import ExecutePreprocessor\n",
    "\n",
    "ep = ExecutePreprocessor(timeout=600, kernel_name='python3')\n",
    "ep.preprocess(nb, {'metadata': {'path': './'}})\n",
    "\n",
    "print(\"✅ Notebook re-executed and outputs captured\")"
   ]
  },
  {
   "cell_type": "code",
   "execution_count": null,
   "metadata": {},
   "outputs": [],
   "source": [
    "print(\"🎯 All output tests completed successfully\")"
   ]
  }
 ],
 "metadata": {
  "kernelspec": {
   "display_name": "Python 3",
   "language": "python",
   "name": "python3"
  },
  "language_info": {
   "name": "python",
   "version": ""
  }
 },
 "nbformat": 4,
 "nbformat_minor": 5
}