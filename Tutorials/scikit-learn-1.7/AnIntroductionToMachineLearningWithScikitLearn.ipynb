{
  "cells": [
    {
      "cell_type": "markdown",
      "metadata": {},
      "source": [
        "# An introduction to machine learning with scikit-learn\n",
        "\n",
        "In this section, we introduce the [machine learning](https://en.wikipedia.org/wiki/Machine_learning) vocabulary that we use throughout scikit-learn and give a simple learning example.\n",
        "\n",
        "To run the code in this tutorial, you must first install scikit-learn and all of its required dependencies. Please refer to the [installation instructions page](https://scikit-learn.org/1.7/install.html#installation-instructions) for more information and for system-specific instructions.\n"
      ]
    },
    {
      "cell_type": "markdown",
      "metadata": {},
      "source": [
        "## Machine learning: the problem setting\n",
        "\n",
        "In general, a learning problem considers a set of n [samples](https://en.wikipedia.org/wiki/Sample_(statistics)) of data and then tries to predict properties of unknown data. If each sample is more than a single number and, for instance, a multi-dimensional entry (aka [multivariate](https://en.wikipedia.org/wiki/Multivariate_random_variable) data), it is said to have several attributes or **features**.\n",
        "\n",
        "Learning problems fall into a few categories:\n",
        "\n",
        "- [supervised learning](https://en.wikipedia.org/wiki/Supervised_learning), in which the data comes with additional attributes that we want to predict ([Click here](https://scikit-learn.org/1.7/supervised_learning.html#supervised-learning) to go to the scikit-learn supervised learning page).This problem can be either:\n",
        "  - [classification](https://en.wikipedia.org/wiki/Classification_in_machine_learning): samples belong to two or more classes and we want to learn from already labeled data how to predict the class of unlabeled data. An example of a classification problem would be handwritten digit recognition, in which the aim is to assign each input vector to one of a finite number of discrete categories.  Another way to think of classification is as a discrete (as opposed to continuous) form of supervised learning where one has a limited number of categories and for each of the n samples provided, one is to try to label them with the correct category or class.\n",
        "  - [regression](https://en.wikipedia.org/wiki/Regression_analysis): if the desired output consists of one or more continuous variables, then the task is called *regression*. An example of a regression problem would be the prediction of the length of a salmon as a function of its age and weight.\n",
        "- [unsupervised learning](https://en.wikipedia.org/wiki/Unsupervised_learning), in which the training data consists of a set of input vectors x without any corresponding target values. The goal in such problems may be to discover groups of similar examples within the data, where it is called [clustering](https://en.wikipedia.org/wiki/Cluster_analysis), or to determine the distribution of data within the input space, known as [density estimation](https://en.wikipedia.org/wiki/Density_estimation), or to project the data from a high-dimensional space down to two or three dimensions for the purpose of *visualization* ([Click here](https://scikit-learn.org/1.7/unsupervised_learning.html#unsupervised-learning) to go to the Scikit-Learn unsupervised learning page).\n",
        "\n",
        "### Training set and testing set\n",
        "\n",
        "Machine learning is about learning some properties of a data set and then testing those properties against another data set. A common practice in machine learning is to evaluate an algorithm by splitting a data set into two. We call one of those sets the **training set**, on which we learn some properties; we call the other set the **testing set**, on which we test the learned properties.\n"
      ]
    },
    {
      "cell_type": "markdown",
      "metadata": {},
      "source": [
        "## Loading an example dataset\n",
        "\n",
        "`scikit-learn` comes with a few standard datasets, for instance the [iris](https://en.wikipedia.org/wiki/Iris_flower_data_set) and [digits](https://archive.ics.uci.edu/dataset/683/mnist+database+of+handwritten+digits) datasets for classification and the [diabetes dataset](https://www4.stat.ncsu.edu/~boos/var.select/diabetes.html) for regression.\n",
        "\n",
        "In the following, we start a Python interpreter from our shell and then load the `iris` and `digits` datasets.  Our notational convention is that `$` denotes the shell prompt while `>>>` denotes the Python interpreter prompt:\n"
      ]
    },
    {
      "cell_type": "code",
      "execution_count": 1,
      "metadata": {},
      "outputs": [
        {
          "ename": "ModuleNotFoundError",
          "evalue": "No module named 'sklearn'",
          "output_type": "error",
          "traceback": [
            "\u001b[31m---------------------------------------------------------------------------\u001b[39m",
            "\u001b[31mModuleNotFoundError\u001b[39m                       Traceback (most recent call last)",
            "\u001b[36mCell\u001b[39m\u001b[36m \u001b[39m\u001b[32mIn[1]\u001b[39m\u001b[32m, line 1\u001b[39m\n\u001b[32m----> \u001b[39m\u001b[32m1\u001b[39m \u001b[38;5;28;01mfrom\u001b[39;00m\u001b[38;5;250m \u001b[39m\u001b[34;01msklearn\u001b[39;00m\u001b[38;5;250m \u001b[39m\u001b[38;5;28;01mimport\u001b[39;00m datasets\n\u001b[32m      3\u001b[39m \u001b[38;5;66;03m# Load the iris and digits datasets\u001b[39;00m\n\u001b[32m      4\u001b[39m iris = datasets.load_iris()\n",
            "\u001b[31mModuleNotFoundError\u001b[39m: No module named 'sklearn'"
          ]
        }
      ],
      "source": [
        "from sklearn import datasets\n",
        "\n",
        "# Load the iris and digits datasets\n",
        "iris = datasets.load_iris()\n",
        "digits = datasets.load_digits()\n",
        "\n",
        "print(\"Iris dataset loaded successfully\")\n",
        "print(\"Digits dataset loaded successfully\")\n"
      ]
    },
    {
      "cell_type": "markdown",
      "metadata": {},
      "source": [
        "A dataset is a dictionary-like object that holds all the data and some metadata about the data. This data is stored in the `.data` member, which is a `n_samples, n_features` array. In the case of supervised problems, one or more response variables are stored in the `.target` member. More details on the different datasets can be found in the [dedicated section](https://scikit-learn.org/1.7/datasets.html#datasets).\n",
        "\n",
        "For instance, in the case of the digits dataset, `digits.data` gives access to the features that can be used to classify the digits samples:\n"
      ]
    },
    {
      "cell_type": "code",
      "execution_count": null,
      "metadata": {},
      "outputs": [],
      "source": [
        "# Display the digits data (features)\n",
        "print(\"Digits data shape:\", digits.data.shape)\n",
        "print(\"First few rows of digits data:\")\n",
        "print(digits.data[:5])\n"
      ]
    },
    {
      "cell_type": "markdown",
      "metadata": {},
      "source": [
        "and `digits.target` gives the ground truth for the digit dataset, that is the number corresponding to each digit image that we are trying to learn:\n"
      ]
    },
    {
      "cell_type": "code",
      "execution_count": null,
      "metadata": {},
      "outputs": [],
      "source": [
        "# Display the digits target (ground truth labels)\n",
        "print(\"Digits target shape:\", digits.target.shape)\n",
        "print(\"Digits target (first 20 values):\")\n",
        "print(digits.target[:20])\n",
        "print(\"Unique classes in digits dataset:\", sorted(set(digits.target)))\n"
      ]
    },
    {
      "cell_type": "markdown",
      "metadata": {},
      "source": [
        "### Shape of the data arrays\n",
        "\n",
        "The data is always a 2D array, shape `(n_samples, n_features)`, although the original data may have had a different shape. In the case of the digits, each original sample is an image of shape `(8, 8)` and can be accessed using:\n"
      ]
    },
    {
      "cell_type": "code",
      "execution_count": null,
      "metadata": {},
      "outputs": [],
      "source": [
        "# Display the first digit image as an 8x8 array\n",
        "print(\"First digit image (8x8):\")\n",
        "print(digits.images[0])\n",
        "\n",
        "# Let's also visualize this digit\n",
        "import matplotlib.pyplot as plt\n",
        "\n",
        "plt.figure(figsize=(3, 3))\n",
        "plt.imshow(digits.images[0], cmap='gray')\n",
        "plt.title(f'First digit (label: {digits.target[0]})')\n",
        "plt.axis('off')\n",
        "plt.show()\n"
      ]
    },
    {
      "cell_type": "markdown",
      "metadata": {},
      "source": [
        "The [simple example on this dataset](https://scikit-learn.org/1.7/auto_examples/classification/plot_digits_classification.html#sphx-glr-auto-examples-classification-plot-digits-classification-py) illustrates how starting from the original problem one can shape the data for consumption in scikit-learn.\n",
        "\n",
        "### Loading from external datasets\n",
        "\n",
        "To load from an external dataset, please refer to [loading external datasets](https://scikit-learn.org/1.7/datasets/loading_other_datasets.html#external-datasets).\n"
      ]
    },
    {
      "cell_type": "markdown",
      "metadata": {},
      "source": [
        "## Learning and predicting\n",
        "\n",
        "In the case of the digits dataset, the task is to predict, given an image, which digit it represents. We are given samples of each of the 10 possible classes (the digits zero through nine) on which we *fit* an [estimator](https://en.wikipedia.org/wiki/Estimator) to be able to *predict* the classes to which unseen samples belong.\n",
        "\n",
        "In scikit-learn, an estimator for classification is a Python object that implements the methods `fit(X, y)` and `predict(T)`.\n",
        "\n",
        "An example of an estimator is the class `sklearn.svm.SVC`, which implements [support vector classification](https://en.wikipedia.org/wiki/Support_vector_machine). The estimator's constructor takes as arguments the model's parameters.\n",
        "\n",
        "For now, we will consider the estimator as a black box:\n"
      ]
    },
    {
      "cell_type": "code",
      "execution_count": null,
      "metadata": {},
      "outputs": [],
      "source": [
        "from sklearn import svm\n",
        "\n",
        "# Create a Support Vector Classifier\n",
        "clf = svm.SVC(gamma=0.001, C=100.)\n",
        "print(\"SVC classifier created with gamma=0.001, C=100.\")\n"
      ]
    },
    {
      "cell_type": "markdown",
      "metadata": {},
      "source": [
        "### Choosing the parameters of the model\n",
        "\n",
        "In this example, we set the value of `gamma` manually. To find good values for these parameters, we can use tools such as [grid search](https://scikit-learn.org/1.7/modules/grid_search.html#grid-search) and [cross validation](https://scikit-learn.org/1.7/modules/cross_validation.html#cross-validation).\n",
        "\n",
        "The `clf` (for classifier) estimator instance is first fitted to the model; that is, it must *learn* from the model. This is done by passing our training set to the `fit` method. For the training set, we'll use all the images from our dataset, except for the last image, which we'll reserve for our predicting. We select the training set with the `[:-1]` Python syntax, which produces a new array that contains all but the last item from `digits.data`:\n"
      ]
    },
    {
      "cell_type": "code",
      "execution_count": null,
      "metadata": {},
      "outputs": [],
      "source": [
        "# Train the classifier on all but the last sample\n",
        "clf.fit(digits.data[:-1], digits.target[:-1])\n",
        "print(\"Classifier fitted successfully\")\n"
      ]
    },
    {
      "cell_type": "markdown",
      "metadata": {},
      "source": [
        "Now you can *predict* new values. In this case, you'll predict using the last image from `digits.data`. By predicting, you'll determine the image from the training set that best matches the last image.\n"
      ]
    },
    {
      "cell_type": "code",
      "execution_count": null,
      "metadata": {},
      "outputs": [],
      "source": [
        "# Predict the class of the last sample\n",
        "prediction = clf.predict(digits.data[-1:])\n",
        "print(f\"Predicted class: {prediction[0]}\")\n",
        "print(f\"Actual class: {digits.target[-1]}\")\n",
        "\n",
        "# Visualize the last digit\n",
        "plt.figure(figsize=(3, 3))\n",
        "plt.imshow(digits.images[-1], cmap='gray')\n",
        "plt.title(f'Last digit (actual: {digits.target[-1]}, predicted: {prediction[0]})')\n",
        "plt.axis('off')\n",
        "plt.show()\n"
      ]
    },
    {
      "cell_type": "markdown",
      "metadata": {},
      "source": [
        "As you can see, it is a challenging task: after all, the images are of poor resolution. Do you agree with the classifier?\n",
        "\n",
        "A complete example of this classification problem is available as an example that you can run and study: [Recognizing hand-written digits](https://scikit-learn.org/1.7/auto_examples/classification/plot_digits_classification.html#sphx-glr-auto-examples-classification-plot-digits-classification-py).\n"
      ]
    },
    {
      "cell_type": "markdown",
      "metadata": {},
      "source": [
        "## Conventions\n",
        "\n",
        "scikit-learn estimators follow certain rules to make their behavior more predictive.  These are described in more detail in the [Glossary of Common Terms and API Elements](https://scikit-learn.org/1.7/glossary.html#glossary).\n",
        "\n",
        "### Type casting\n",
        "\n",
        "Where possible, input of type `float32` will maintain its data type. Otherwise input will be cast to `float64`:\n"
      ]
    },
    {
      "cell_type": "code",
      "execution_count": null,
      "metadata": {},
      "outputs": [],
      "source": [
        "import numpy as np\n",
        "from sklearn import kernel_approximation\n",
        "\n",
        "# Demonstrate type casting behavior\n",
        "rng = np.random.RandomState(0)\n",
        "X = rng.rand(10, 2000)\n",
        "X = np.array(X, dtype='float32')\n",
        "print(f\"Original dtype: {X.dtype}\")\n",
        "\n",
        "transformer = kernel_approximation.RBFSampler()\n",
        "X_new = transformer.fit_transform(X)\n",
        "print(f\"Transformed dtype: {X_new.dtype}\")\n",
        "\n",
        "print(\"X is float32, and is unchanged by fit_transform(X).\")\n"
      ]
    },
    {
      "cell_type": "markdown",
      "metadata": {},
      "source": [
        "In this example, `X` is `float32`, and is unchanged by `fit_transform(X)`.\n",
        "\n",
        "Using `float32`-typed training (or testing) data is often more efficient than using the usual `float64` `dtype`: it allows to reduce the memory usage and sometimes also reduces processing time by leveraging the vector instructions of the CPU. However it can sometimes lead to numerical stability problems causing the algorithm to be more sensitive to the scale of the values and [require adequate preprocessing](https://scikit-learn.org/1.7/modules/preprocessing.html#preprocessing-scaler).\n",
        "\n",
        "Keep in mind however that not all scikit-learn estimators attempt to work in `float32` mode. For instance, some transformers will always cast their input to `float64` and return `float64` transformed values as a result.\n",
        "\n",
        "Regression targets are cast to `float64` and classification targets are maintained:\n"
      ]
    },
    {
      "cell_type": "code",
      "execution_count": null,
      "metadata": {},
      "outputs": [],
      "source": [
        "from sklearn import datasets\n",
        "from sklearn.svm import SVC\n",
        "\n",
        "# Load iris dataset\n",
        "iris = datasets.load_iris()\n",
        "\n",
        "# First example: using integer targets\n",
        "clf = SVC()\n",
        "clf.fit(iris.data, iris.target)\n",
        "print(\"First predict() with integer targets:\")\n",
        "print(list(clf.predict(iris.data[:3])))\n",
        "\n",
        "# Second example: using string targets\n",
        "clf.fit(iris.data, iris.target_names[iris.target])\n",
        "print(\"Second predict() with string targets:\")\n",
        "print(list(clf.predict(iris.data[:3])))\n",
        "\n",
        "print(\"\\nThe first predict() returns an integer array, since iris.target (an integer array) was used in fit.\")\n",
        "print(\"The second predict() returns a string array, since iris.target_names was for fitting.\")\n"
      ]
    },
    {
      "cell_type": "markdown",
      "metadata": {},
      "source": [
        "Here, the first `predict()` returns an integer array, since `iris.target` (an integer array) was used in `fit`. The second `predict()` returns a string array, since `iris.target_names` was for fitting.\n",
        "\n",
        "### Refitting and updating parameters\n",
        "\n",
        "Hyper-parameters of an estimator can be updated after it has been constructed via the [set_params()](https://scikit-learn.org/1.7/glossary.html#term-set_params) method. Calling `fit()` more than once will overwrite what was learned by any previous `fit()`:\n"
      ]
    },
    {
      "cell_type": "code",
      "execution_count": null,
      "metadata": {},
      "outputs": [],
      "source": [
        "import numpy as np\n",
        "from sklearn.datasets import load_iris\n",
        "from sklearn.svm import SVC\n",
        "\n",
        "# Load iris data\n",
        "X, y = load_iris(return_X_y=True)\n",
        "\n",
        "# Create classifier and fit with linear kernel\n",
        "clf = SVC()\n",
        "clf.set_params(kernel='linear').fit(X, y)\n",
        "print(\"Linear kernel predictions:\")\n",
        "print(clf.predict(X[:5]))\n",
        "\n",
        "# Refit with RBF kernel\n",
        "clf.set_params(kernel='rbf').fit(X, y)\n",
        "print(\"RBF kernel predictions:\")\n",
        "print(clf.predict(X[:5]))\n",
        "\n",
        "print(\"\\nThe default kernel rbf is first changed to linear via SVC.set_params() after the estimator has been constructed,\")\n",
        "print(\"and changed back to rbf to refit the estimator and to make a second prediction.\")\n"
      ]
    },
    {
      "cell_type": "markdown",
      "metadata": {},
      "source": [
        "Here, the default kernel `rbf` is first changed to `linear` via [`SVC.set_params()`](https://scikit-learn.org/1.7/modules/generated/sklearn.svm.SVC.html#sklearn.svm.SVC.set_params) after the estimator has been constructed, and changed back to `rbf` to refit the estimator and to make a second prediction.\n",
        "\n",
        "### Multiclass vs. multilabel fitting\n",
        "\n",
        "When using [`multiclass classifiers`](https://scikit-learn.org/1.7/modules/classes.html#module-sklearn.multiclass), the learning and prediction task that is performed is dependent on the format of the target data fit upon:\n"
      ]
    },
    {
      "cell_type": "code",
      "execution_count": null,
      "metadata": {},
      "outputs": [],
      "source": [
        "from sklearn.svm import SVC\n",
        "from sklearn.multiclass import OneVsRestClassifier\n",
        "from sklearn.preprocessing import LabelBinarizer\n",
        "\n",
        "# Create sample data\n",
        "X = [[1, 2], [2, 4], [4, 5], [3, 2], [3, 1]]\n",
        "y = [0, 0, 1, 1, 2]\n",
        "\n",
        "# Multiclass classification\n",
        "classif = OneVsRestClassifier(estimator=SVC(random_state=0))\n",
        "print(\"Multiclass predictions:\")\n",
        "print(classif.fit(X, y).predict(X))\n"
      ]
    },
    {
      "cell_type": "markdown",
      "metadata": {},
      "source": [
        "In the above case, the classifier is fit on a 1d array of multiclass labels and the `predict()` method therefore provides corresponding multiclass predictions. It is also possible to fit upon a 2d array of binary label indicators:\n"
      ]
    },
    {
      "cell_type": "code",
      "execution_count": null,
      "metadata": {},
      "outputs": [],
      "source": [
        "# Multilabel classification using binary label representation\n",
        "y_binary = LabelBinarizer().fit_transform(y)\n",
        "print(\"Binary label representation:\")\n",
        "print(y_binary)\n",
        "print(\"Multilabel predictions:\")\n",
        "print(classif.fit(X, y_binary).predict(X))\n"
      ]
    },
    {
      "cell_type": "markdown",
      "metadata": {},
      "source": [
        "Here, the classifier is `fit()`  on a 2d binary label representation of `y`, using the [`LabelBinarizer`](https://scikit-learn.org/1.7/modules/generated/sklearn.preprocessing.LabelBinarizer.html#sklearn.preprocessing.LabelBinarizer). In this case `predict()` returns a 2d array representing the corresponding multilabel predictions.\n",
        "\n",
        "Note that the fourth and fifth instances returned all zeroes, indicating that they matched none of the three labels `fit` upon. With multilabel outputs, it is similarly possible for an instance to be assigned multiple labels:\n"
      ]
    },
    {
      "cell_type": "code",
      "execution_count": null,
      "metadata": {},
      "outputs": [],
      "source": [
        "from sklearn.preprocessing import MultiLabelBinarizer\n",
        "\n",
        "# Example with multiple labels per instance\n",
        "y_multilabel = [[0, 1], [0, 2], [1, 3], [0, 2, 3], [2, 4]]\n",
        "print(\"Original multilabel data:\")\n",
        "print(y_multilabel)\n",
        "\n",
        "y_multilabel_binary = MultiLabelBinarizer().fit_transform(y_multilabel)\n",
        "print(\"Binary representation:\")\n",
        "print(y_multilabel_binary)\n",
        "\n",
        "print(\"Multilabel predictions:\")\n",
        "print(classif.fit(X, y_multilabel_binary).predict(X))\n"
      ]
    },
    {
      "cell_type": "markdown",
      "metadata": {},
      "source": [
        "In this case, the classifier is fit upon instances each assigned multiple labels. The [`MultiLabelBinarizer`](https://scikit-learn.org/1.7/modules/generated/sklearn.preprocessing.MultiLabelBinarizer.html#sklearn.preprocessing.MultiLabelBinarizer) is used to binarize the 2d array of multilabels to `fit` upon. As a result, `predict()` returns a 2d array with multiple predicted labels for each instance.\n",
        "\n",
        "## New Features in scikit-learn 1.5-1.7\n",
        "\n",
        "Since this tutorial was originally written for scikit-learn 1.4, several important features have been added in versions 1.5, 1.6, and 1.7 that enhance the machine learning workflow:\n",
        "\n",
        "### Enhanced Array API Support\n",
        "\n",
        "scikit-learn 1.7 now supports Array API-compliant inputs, making it easier to work with data from libraries like PyTorch and CuPy. This means you can now pass tensors and arrays from these libraries directly to many scikit-learn functions without conversion:\n"
      ]
    },
    {
      "cell_type": "code",
      "execution_count": null,
      "metadata": {},
      "outputs": [],
      "source": [
        "# Note: This example requires PyTorch to be installed\n",
        "# Uncomment the following lines if you have PyTorch installed\n",
        "\n",
        "# import torch\n",
        "# from sklearn.metrics import accuracy_score\n",
        "# y_true = torch.tensor([0, 1, 1, 0])\n",
        "# y_pred = torch.tensor([0, 1, 0, 0])\n",
        "# print(\"Accuracy with PyTorch tensors:\", accuracy_score(y_true, y_pred))\n",
        "\n",
        "# For demonstration without PyTorch, using numpy arrays\n",
        "from sklearn.metrics import accuracy_score\n",
        "import numpy as np\n",
        "\n",
        "y_true = np.array([0, 1, 1, 0])\n",
        "y_pred = np.array([0, 1, 0, 0])\n",
        "print(\"Accuracy with numpy arrays:\", accuracy_score(y_true, y_pred))\n",
        "print(\"Note: With PyTorch installed, you could use torch.tensor directly!\")\n"
      ]
    },
    {
      "cell_type": "markdown",
      "metadata": {},
      "source": [
        "### Improved Sparse Data Handling\n",
        "\n",
        "scikit-learn now supports both traditional sparse matrices (`scipy.sparse.spmatrix`) and the newer sparse arrays (`scipy.sparse.sparray`), providing better compatibility with future SciPy versions:\n"
      ]
    },
    {
      "cell_type": "code",
      "execution_count": null,
      "metadata": {},
      "outputs": [],
      "source": [
        "from scipy.sparse import csr_array  # New sparse array format\n",
        "from sklearn.svm import SVC\n",
        "\n",
        "# Create sparse data\n",
        "X_sparse = csr_array([[0, 1], [1, 0]])\n",
        "y = [0, 1]\n",
        "\n",
        "# Train classifier with sparse data\n",
        "clf = SVC()\n",
        "clf.fit(X_sparse, y)\n",
        "print(\"SVC trained successfully with sparse arrays\")\n",
        "print(\"Prediction:\", clf.predict(X_sparse))\n",
        "print(\"Note: Works seamlessly with sparse arrays!\")\n"
      ]
    },
    {
      "cell_type": "markdown",
      "metadata": {},
      "source": [
        "### Enhanced Model Visualization\n",
        "\n",
        "In Jupyter notebooks, estimators now display a more informative HTML representation showing all parameters with non-default values highlighted, and include a copy button for easy configuration:\n"
      ]
    },
    {
      "cell_type": "code",
      "execution_count": null,
      "metadata": {},
      "outputs": [],
      "source": [
        "from sklearn.ensemble import HistGradientBoostingClassifier\n",
        "\n",
        "# Create classifier with custom parameters\n",
        "clf = HistGradientBoostingClassifier(max_iter=100, learning_rate=0.1)\n",
        "\n",
        "# Display the classifier (in Jupyter, this shows enhanced HTML representation)\n",
        "print(\"HistGradientBoostingClassifier with custom parameters:\")\n",
        "print(clf)\n",
        "print(\"\\nIn Jupyter notebooks, this would display an enhanced HTML representation\")\n",
        "print(\"with non-default parameters highlighted and a copy button for configuration.\")\n"
      ]
    },
    {
      "cell_type": "markdown",
      "metadata": {},
      "source": [
        "### Advanced Gradient Boosting Features\n",
        "\n",
        "`HistGradientBoostingClassifier` and `HistGradientBoostingRegressor` now support explicit validation sets for better early stopping:\n"
      ]
    },
    {
      "cell_type": "code",
      "execution_count": null,
      "metadata": {},
      "outputs": [],
      "source": [
        "from sklearn.ensemble import HistGradientBoostingClassifier\n",
        "from sklearn.model_selection import train_test_split\n",
        "\n",
        "# Create sample data\n",
        "X, y = datasets.make_classification(n_samples=1000, n_features=20, random_state=42)\n",
        "\n",
        "# Split data into train and validation sets\n",
        "X_train, X_val, y_train, y_val = train_test_split(X, y, test_size=0.2, random_state=42)\n",
        "\n",
        "# Create classifier with validation set support\n",
        "clf = HistGradientBoostingClassifier(enable_metadata_routing=True, max_iter=100)\n",
        "clf.fit(X_train, y_train, X_val=X_val, y_val=y_val)\n",
        "\n",
        "print(\"HistGradientBoostingClassifier trained with explicit validation set\")\n",
        "print(\"This allows for better early stopping and model selection.\")\n"
      ]
    },
    {
      "cell_type": "markdown",
      "metadata": {},
      "source": [
        "### Enhanced ROC Curve Visualization\n",
        "\n",
        "The new `from_cv_results()` method in `RocCurveDisplay` allows automatic generation of ROC curves from cross-validation results:\n"
      ]
    },
    {
      "cell_type": "code",
      "execution_count": null,
      "metadata": {},
      "outputs": [],
      "source": [
        "from sklearn.model_selection import cross_validate\n",
        "from sklearn.metrics import RocCurveDisplay\n",
        "\n",
        "# Create a simple binary classification problem\n",
        "X_binary, y_binary = datasets.make_classification(n_samples=200, n_features=10, n_classes=2, random_state=42)\n",
        "\n",
        "# Perform cross-validation\n",
        "cv_results = cross_validate(clf, X_binary, y_binary, cv=3, return_estimator=True)\n",
        "\n",
        "# Generate ROC curve from cross-validation results\n",
        "print(\"Cross-validation completed successfully\")\n",
        "print(\"Number of folds:\", len(cv_results['estimator']))\n",
        "print(\"Note: RocCurveDisplay.from_cv_results() can be used to visualize ROC curves from these results\")\n"
      ]
    },
    {
      "cell_type": "markdown",
      "metadata": {},
      "source": [
        "These enhancements make scikit-learn 1.7 more powerful and user-friendly while maintaining backward compatibility with code written for earlier versions.\n",
        "\n",
        "**Note:** scikit-learn 1.7 supports Python versions 3.10 to 3.13, with experimental support for free-threaded CPython. Version 1.7.2 also adds support for Python 3.14.\n",
        "\n",
        "---\n",
        "\n",
        "This original version of this tutorial was written by scikit-learn developers under the [BSD License](https://opensource.org/license/BSD-3-clause).  \n",
        "\n",
        "---\n",
        "\n",
        "The code examples and text were updated for scikit-learn version 1.7 by Brian Bird using Claude Sonet 4, 10/19/2025\n",
        "\n",
        "---\n"
      ]
    }
  ],
  "metadata": {
    "kernelspec": {
      "display_name": "Python 3",
      "language": "python",
      "name": "python3"
    },
    "language_info": {
      "codemirror_mode": {
        "name": "ipython",
        "version": 3
      },
      "file_extension": ".py",
      "mimetype": "text/x-python",
      "name": "python",
      "nbconvert_exporter": "python",
      "pygments_lexer": "ipython3",
      "version": "3.11.9"
    }
  },
  "nbformat": 4,
  "nbformat_minor": 2
}
